{
 "cells": [
  {
   "cell_type": "markdown",
   "metadata": {},
   "source": [
    "## RSA "
   ]
  },
  {
   "cell_type": "markdown",
   "metadata": {},
   "source": [
    "#### Introduction\n",
    "RSA is an algorithm used to encrypt and decrypt messages.  The algorithm uses public and private keys along with modular arithmetic and prime factorization to make this type of encryption impossible to decode with large numbers.  \n",
    "\n",
    "To begin, you'll need to create a public key, which will give you two integers; e and n.  Choose two different prime numbers; p and q.  To get n multiple p and q. (n = p*q).  e is a number that is relatively prime to (p-1)*(q-1).  Once you've caluclated e and n, you have your public key, which you can send to anyone!  It's important to note here that it's very difficult, for large numbers for someone to determine the values of p and q.  \n",
    "\n",
    "To encode a message, convert each character in your message to some numerical value.  For this project we've chosen ASCII.  For each numberic value from your message (m), m^e mod n, where e and n are the values from your public key.  Now you will have a list of each of your encoded values you calcluated using your public key.  Now you can send the encrypted message back to whomever gave you the public key and they will be able to decode your message. \n",
    "\n",
    "To decode the message you will need to create a private key, which will give you two integers; d and n.  d is the inverse of e mod (p-1)(q-1).  For each numberic value from your encoded message (c), c^d mod n, where d and n are the values from your private key.  This will give you a list of numbers that coorespond to their orignal (for this project) ASCII characters."
   ]
  },
  {
   "cell_type": "markdown",
   "metadata": {},
   "source": [
    "#### Basic tool set\n",
    "\n",
    "These are functions that you'll need to pre-process the messages before the messages are encoded and decoded by the RSA algorithm. Thats the reason we will be defining them first.\n",
    "\n"
   ]
  },
  {
   "cell_type": "code",
   "execution_count": 3,
   "metadata": {},
   "outputs": [
    {
     "data": {
      "text/plain": [
       "[72, 101, 108, 108, 111, 32, 87, 111, 114, 108, 100, 33]"
      ]
     },
     "execution_count": 3,
     "metadata": {},
     "output_type": "execute_result"
    }
   ],
   "source": [
    "#convert a string into a list of ascii characters\n",
    "def Convert_Text_ascii(_string):\n",
    "    integer_list = [] #creates an empty list\n",
    "    \n",
    "    for i in _string: #loops through each character in the string\n",
    "        ascii_ord = ord(i) #converts each character in the string to the respective ascii number\n",
    "        integer_list.append(ascii_ord) #adds the assoicated ascii number to a list\n",
    "    \n",
    "    return integer_list #returns the list of ascii numbers as a list\n",
    "\n",
    "Convert_Text_ascii(\"Hello World!\")"
   ]
  },
  {
   "cell_type": "code",
   "execution_count": 4,
   "metadata": {},
   "outputs": [
    {
     "data": {
      "text/plain": [
       "'Hello World!'"
      ]
     },
     "execution_count": 4,
     "metadata": {},
     "output_type": "execute_result"
    }
   ],
   "source": [
    "#converts a list of ascii numbers into a string of their respective characters\n",
    "def Convert_Num_ascii(_list):\n",
    "    _string = '' #creates an empty string\n",
    "    \n",
    "    for i in _list: #loops through each number in the list\n",
    "        ascii_chr = chr(i) #assigns each number from the list to its respective character\n",
    "        _string += ascii_chr #adds the converted character to a string\n",
    "    \n",
    "    return _string #returns a string of characters\n",
    "\n",
    "Convert_Num_ascii([72, 101, 108, 108, 111, 32, 87, 111, 114, 108, 100, 33])"
   ]
  },
  {
   "cell_type": "code",
   "execution_count": 19,
   "metadata": {},
   "outputs": [
    {
     "data": {
      "text/plain": [
       "'10011'"
      ]
     },
     "execution_count": 19,
     "metadata": {},
     "output_type": "execute_result"
    }
   ],
   "source": [
    "def Convert_Binary_String(_int):\n",
    "    int_2 = bin(_int) #converts the exponent from decimal to binary\n",
    "    binary_list = int_2.split('b') #splits the binary number into two elements at b\n",
    "    binary_list.pop(0) # removes the first element of the list \n",
    "    bits = binary_list[0] #captures the first element in the list, which contains the binary string\n",
    "    \n",
    "    return bits #returns the binary number as a string\n",
    "\n",
    "Convert_Binary_String(19)"
   ]
  },
  {
   "cell_type": "code",
   "execution_count": 20,
   "metadata": {},
   "outputs": [
    {
     "data": {
      "text/plain": [
       "2"
      ]
     },
     "execution_count": 20,
     "metadata": {},
     "output_type": "execute_result"
    }
   ],
   "source": [
    "def modular_exponentiation(b, n_10 , m):\n",
    "    x = 1\n",
    "    power = b%m\n",
    "    binary = Convert_Binary_String(n_10) #converts the integer into a binary string\n",
    "    list_of_bin_digits = [] #creates an empty list\n",
    "    \n",
    "    #create a list that contains each of the digits in the binary number as it's own element in the list\n",
    "    for i in binary:  \n",
    "        list_of_bin_digits.append(i)\n",
    "    list_of_bin_digits = [int(i) for i in list_of_bin_digits] #convert the list elements into integers\n",
    "    list_of_bin_digits.reverse() #reverse the list_of_bin_digits, so the for loop reads from right to left of the binary number\n",
    "    \n",
    "    for i in list_of_bin_digits:\n",
    "        if i == 1:\n",
    "            x = (x * power)%m\n",
    "        power = (power*power)%m \n",
    "    return x\n",
    "\n",
    "modular_exponentiation(2, 10, 7)"
   ]
  },
  {
   "cell_type": "code",
   "execution_count": 24,
   "metadata": {},
   "outputs": [
    {
     "data": {
      "text/plain": [
       "1"
      ]
     },
     "execution_count": 24,
     "metadata": {},
     "output_type": "execute_result"
    }
   ],
   "source": [
    "#use the Euclidean Algorith to find the GCD\n",
    "def Euclidean_Alg(a, b):\n",
    "    while b != 0:\n",
    "        r = a % b #r is the remainder of a mod b\n",
    "        a = b #a is now equal to b\n",
    "        b = r #b is now euqal to r\n",
    "        #repeat until b is = 0\n",
    "    return a #a is now the gcd of the initial inputs of a and b\n",
    "\n",
    "Euclidean_Alg(11, 157)"
   ]
  },
  {
   "cell_type": "code",
   "execution_count": 25,
   "metadata": {},
   "outputs": [
    {
     "name": "stdout",
     "output_type": "stream",
     "text": [
      "(7, 1727)\n"
     ]
    }
   ],
   "source": [
    "def Find_Public_Key_e(p, q):\n",
    "    n = p*q\n",
    "    a = (p-1)*(q-1)\n",
    "    \n",
    "    #create a list of odd numbers to test values for e\n",
    "    start, end = 2, 500 #e will be inbetween the start and end numbers\n",
    "    list_of_odds = [] #create an empty list\n",
    "    for num in range(start, end + 1): #iterate through the starting and ending numbers defined above\n",
    "        if num % 2 != 0: #check to see if the number is odd\n",
    "            list_of_odds.append(num) #if the number is odd, add it to the list\n",
    "            \n",
    "    #find a value for e that make sure it's relatively prime with a\n",
    "    for e in list_of_odds:\n",
    "        if Euclidean_Alg(e, a) == 1:\n",
    "            return e, n\n",
    "        \n",
    "print(Find_Public_Key_e(11, 157))"
   ]
  },
  {
   "cell_type": "code",
   "execution_count": 26,
   "metadata": {},
   "outputs": [
    {
     "name": "stdout",
     "output_type": "stream",
     "text": [
      "(223, 1727)\n"
     ]
    }
   ],
   "source": [
    "#d will be equal to the inverse of e mod (p-1)*(q-1)\n",
    "def Find_Private_Key_d(e, p, q):\n",
    "    x = e\n",
    "    n = p*q #will need to be returned as a part of the private key\n",
    "    a = (p-1)*(q-1)\n",
    "    y = a\n",
    "    \n",
    "    #initialize variables for the bezout coeffiecents\n",
    "    oldold_s = 1\n",
    "    old_s = 0\n",
    "    oldold_t = 0\n",
    "    old_t = 1\n",
    "    \n",
    "    #this while loop finds d, in addtion to finding the bezout coefficients\n",
    "    while y != 0: \n",
    "        q = x // y\n",
    "        r = x % y\n",
    "        x = y\n",
    "        y = r\n",
    "        s = oldold_s - q*old_s\n",
    "        t = oldold_t - q*old_t\n",
    "        oldold_s = old_s\n",
    "        oldold_t = old_t \n",
    "        old_s = s\n",
    "        old_t = t\n",
    "        \n",
    "    d = oldold_s\n",
    "    return d, n\n",
    "\n",
    "print(Find_Private_Key_d(7, 11, 157))"
   ]
  },
  {
   "cell_type": "code",
   "execution_count": 27,
   "metadata": {},
   "outputs": [
    {
     "name": "stdout",
     "output_type": "stream",
     "text": [
      "[217, 601, 510, 510, 991, 901, 21, 991, 445, 510, 1607, 1540]\n"
     ]
    }
   ],
   "source": [
    "def Encode(n, e, message):\n",
    "    converted_message = Convert_Text_ascii(message) #convert you message into a list of ascii numbers\n",
    "    cipher_text = [] #create an empty list\n",
    "    for i in converted_message: #for each of the numbers in the list of ascii numbers\n",
    "        c = (i**e) % n #take i to the e and mod by n\n",
    "        cipher_text.append(c) #add each of the new, encoded numbers to a list\n",
    "\n",
    "    return cipher_text\n",
    "\n",
    "print(Encode(1727, 7, \"Hello World!\"))"
   ]
  },
  {
   "cell_type": "code",
   "execution_count": 29,
   "metadata": {},
   "outputs": [
    {
     "name": "stdout",
     "output_type": "stream",
     "text": [
      "Hello World!\n"
     ]
    }
   ],
   "source": [
    "def Decode(n, d, cipher_text):\n",
    "    decoded_number_list = [] #create an empty list\n",
    "    for i in cipher_text: #loop through each number in the list\n",
    "        decoded_number = (i**d)% n #take i to the d and mod by n\n",
    "        decoded_number_list.append(decoded_number) #add the decoded number to a list that contains the decoded ascii numbers\n",
    "    message = Convert_Num_ascii(decoded_number_list) #convert the list to of ascii numbers to a message\n",
    "    \n",
    "    return message\n",
    "\n",
    "print(Decode(1727, 223, [217, 601, 510, 510, 991, 901, 21, 991, 445, 510, 1607, 1540]))"
   ]
  },
  {
   "cell_type": "markdown",
   "metadata": {},
   "source": [
    "#### Now the fun begins:"
   ]
  },
  {
   "cell_type": "code",
   "execution_count": 38,
   "metadata": {},
   "outputs": [
    {
     "name": "stdin",
     "output_type": "stream",
     "text": [
      "Do you want to Get Keys, Encode or Decode? Decode\n",
      "What is your encoded message? (please remove any brackets!!!) 217, 601, 510, 510, 991, 901, 21, 991, 445, 510, 1607, 1540\n",
      "What is your private key? 223, 1727\n"
     ]
    },
    {
     "name": "stdout",
     "output_type": "stream",
     "text": [
      "Hello World!\n"
     ]
    }
   ],
   "source": [
    "def main():\n",
    "    \n",
    "    what_do_you_want = input(\"Do you want to Get Keys, Encode or Decode?\")\n",
    "\n",
    "    if what_do_you_want == \"Get Keys\": #to Get Keys you will need to choose two different prime numbers\n",
    "        p = int(input(\"pick a prime\"))\n",
    "        q = int(input(\"pick another prime\"))\n",
    "        a = Find_Public_Key_e(p, q) #call the Find_Public_Key_e using the numbers you've entered for p and q\n",
    "        b = Find_Private_Key_d(a[0], p, q) #call the Find_Private_Key_d using the numbers you've entered for p and q, and what you found for e from your Find_Public_Key_e\n",
    "        print(\"Public Key\", a, \"Private Key\", b)\n",
    "\n",
    "    if what_do_you_want == \"Encode\": #to Encode your message you will need to choose choose your message and have your public key handy\n",
    "        message = input(\"What is the message you'd like to encode?\")\n",
    "        public_key = input(\"What is your public key?\")\n",
    "        a = public_key.split(\",\") #the public key comes in as a string, you will need to make it into a list\n",
    "        e = int(a[0]) #from your new list a, of pubilc keys you can use the index to assign the appropriate values for e and n and make them integers\n",
    "        n = int(a[1])\n",
    "        encoded_message = Encode(n, e, message) #call the Encode function with your values for n, e and your message to encode your function\n",
    "        print(encoded_message) #this will return a list of integers\n",
    "    \n",
    "    if what_do_you_want == \"Decode\":\n",
    "        coded_message = input(\"What is your encoded message? (please remove any brackets!!!)\")\n",
    "        a = coded_message.split(\",\") #decoded message is now a list of strings, you will need to convert the string into integrs\n",
    "        coded_message_list_of_ints = []\n",
    "        for i in a: #this for loop will convert each element in the list of strings into integers\n",
    "            interger_values = int(i)\n",
    "            coded_message_list_of_ints.append(interger_values)\n",
    "        private_key = input(\"What is your private key?\")\n",
    "        b = private_key.split(\",\") #this will create a list with the two values entered for the private key.\n",
    "        d = int(b[0]) #from your new list b, of private keys you can use the index to assign the appropriate values for e and n and make them integers\n",
    "        n = int(b[1])\n",
    "        decoded_message = Decode(n, d, coded_message_list_of_ints)\n",
    "        print(decoded_message) #this will return your message\n",
    "\n",
    "\n",
    "if __name__ == '__main__':\n",
    "    main()    "
   ]
  },
  {
   "cell_type": "markdown",
   "metadata": {},
   "source": [
    "### Demonstrate how your RSA works below, by encoding and decoding a sample message here using your main above and sample inputs. \n"
   ]
  },
  {
   "cell_type": "markdown",
   "metadata": {},
   "source": [
    "**1. To generate private and public keys, all you need is two prime numbers**\n",
    "\n",
    "_In the main() function, when prompted, input \"Get Keys\" and enter two different prime numbers._\n"
   ]
  },
  {
   "cell_type": "code",
   "execution_count": 39,
   "metadata": {},
   "outputs": [
    {
     "name": "stdin",
     "output_type": "stream",
     "text": [
      "Do you want to Get Keys, Encode or Decode? Get Keys\n",
      "pick a prime 11\n",
      "pick another prime 157\n"
     ]
    },
    {
     "name": "stdout",
     "output_type": "stream",
     "text": [
      "Public Key (7, 1727) Private Key (223, 1727)\n"
     ]
    }
   ],
   "source": [
    "#make sure you've run all functions above before trying to execute any of the code below\n",
    "main()\n",
    "\n",
    "# Here is an example of the prompts and answers you can get by trying to find the keys:\n",
    "# Do you want to Get Keys, Encode or Decode? Get Keys\n",
    "# pick a prime 11\n",
    "# pick another prime 157\n",
    "# public key (7, 1727) private key (223, 1727)"
   ]
  },
  {
   "cell_type": "markdown",
   "metadata": {},
   "source": [
    "**2. To encode a message, you will need your public key and your message**\n",
    "\n",
    "* In the code below, when prompted, input \"Encode\" and enter values for e and n from your public key."
   ]
  },
  {
   "cell_type": "code",
   "execution_count": 40,
   "metadata": {},
   "outputs": [
    {
     "name": "stdin",
     "output_type": "stream",
     "text": [
      "Do you want to Get Keys, Encode or Decode? Encode\n",
      "What is the message you'd like to encode? Hello World!\n",
      "What is your public key? 7, 1727\n"
     ]
    },
    {
     "name": "stdout",
     "output_type": "stream",
     "text": [
      "[217, 601, 510, 510, 991, 901, 21, 991, 445, 510, 1607, 1540]\n"
     ]
    }
   ],
   "source": [
    "main()\n",
    "\n",
    "# Here is an example of the prompts and answers you can get by trying to find the keys:\n",
    "# Do you want to Get Keys, Encode or Decode? Encode\n",
    "# What is the message you'd like to encode? Happy Halloween!\n",
    "# What is your public key? 5, 3781\n",
    "# [217, 601, 510, 510, 991, 901, 21, 991, 445, 510, 1607, 1540]"
   ]
  },
  {
   "cell_type": "markdown",
   "metadata": {},
   "source": [
    "**3. To decode a message, you will need your private key and your encoded message**\n",
    "\n",
    "* In the code below, when prompted, input \"Decode\" and enter values for d and n from your private key."
   ]
  },
  {
   "cell_type": "code",
   "execution_count": null,
   "metadata": {},
   "outputs": [],
   "source": [
    "main()\n",
    "\n",
    "# Here is an example of the prompts and answers you can get by trying to find the keys:\n",
    "# Do you want to Get Keys, Encode or Decode? Decode\n",
    "# What is your encoded message? (please remove any brackets!!!) 217, 601, 510, 510, 991, 901, 21, 991, 445, 510, 1607, 1540\n",
    "# What is your private key? 223, 1727\n",
    "# Hello World!"
   ]
  }
 ],
 "metadata": {
  "kernelspec": {
   "display_name": "Python 3",
   "language": "python",
   "name": "python3"
  },
  "language_info": {
   "codemirror_mode": {
    "name": "ipython",
    "version": 3
   },
   "file_extension": ".py",
   "mimetype": "text/x-python",
   "name": "python",
   "nbconvert_exporter": "python",
   "pygments_lexer": "ipython3",
   "version": "3.6.7"
  }
 },
 "nbformat": 4,
 "nbformat_minor": 2
}
